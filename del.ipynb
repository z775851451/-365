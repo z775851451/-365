{
 "cells": [
  {
   "cell_type": "code",
   "execution_count": 75,
   "metadata": {},
   "outputs": [],
   "source": [
    "import pymysql\n",
    "import yaml\n",
    "import os"
   ]
  },
  {
   "cell_type": "code",
   "execution_count": 76,
   "metadata": {},
   "outputs": [],
   "source": [
    "def config_dp():\n",
    "    # print('正在加载配置文件......')\n",
    "    try:\n",
    "        with open('del.yml', 'r', encoding='utf-8') as f:\n",
    "            result = yaml.load(f.read(), Loader=yaml.FullLoader)\n",
    "        return result\n",
    "    except:\n",
    "        print('缺少配置文件:del.yml,或检查是否设置有误')\n",
    "        return None\n",
    "\n",
    "path = config_dp()['path']\n",
    "con = config_dp()\n",
    "database : config_dp()['database_c']['database']\n",
    "host = config_dp()['database_c']['host']\n",
    "port = config_dp()['database_c']['port']\n",
    "user = config_dp()['database_c']['user']\n",
    "password = config_dp()['database_c']['password']\n",
    "database = config_dp()['database_c']['database']\n",
    "charset = config_dp()['database_c']['charset']\n",
    "\n",
    "# engine = create_engine(f\"mysql+pymysql://{user}:{password}@{host}:{port}/{database}?charset={charset}\")\n"
   ]
  },
  {
   "cell_type": "code",
   "execution_count": null,
   "metadata": {},
   "outputs": [],
   "source": []
  },
  {
   "cell_type": "code",
   "execution_count": 102,
   "metadata": {},
   "outputs": [],
   "source": [
    "import pymysql\n",
    "# 打开数据库连接\n",
    "def del_row(sql):\n",
    "   db = pymysql.connect(host=host,port=port,user=user,password=password,database=database,charset=charset)\n",
    "\n",
    "   # 使用cursor()方法获取操作游标 \n",
    "   cursor = db.cursor()\n",
    "   # SQL 删除语句\n",
    "   try:\n",
    "      # 执行SQL语句\n",
    "      cursor.execute(sql)\n",
    "      # 提交修改\n",
    "      db.commit()\n",
    "      print(\"delete OK\")                  \n",
    "   except:\n",
    "      # 发生错误时回滚\n",
    "      db.rollback()\n",
    "   # 关闭连接\n",
    "   db.close()"
   ]
  },
  {
   "cell_type": "code",
   "execution_count": 104,
   "metadata": {},
   "outputs": [
    {
     "name": "stdout",
     "output_type": "stream",
     "text": [
      "delete OK\n"
     ]
    }
   ],
   "source": [
    "sql = \"DELETE FROM `京东` WHERE `下单时间` BETWEEN '2021-09-20' AND '2021-12-20'\"\n",
    "del_row(sql)"
   ]
  },
  {
   "cell_type": "code",
   "execution_count": null,
   "metadata": {},
   "outputs": [],
   "source": []
  }
 ],
 "metadata": {
  "interpreter": {
   "hash": "b3ba2566441a7c06988d0923437866b63cedc61552a5af99d1f4fb67d367b25f"
  },
  "kernelspec": {
   "display_name": "Python 3.7.0 64-bit ('base': conda)",
   "language": "python",
   "name": "python3"
  },
  "language_info": {
   "codemirror_mode": {
    "name": "ipython",
    "version": 3
   },
   "file_extension": ".py",
   "mimetype": "text/x-python",
   "name": "python",
   "nbconvert_exporter": "python",
   "pygments_lexer": "ipython3",
   "version": "3.7.0"
  },
  "orig_nbformat": 4
 },
 "nbformat": 4,
 "nbformat_minor": 2
}
