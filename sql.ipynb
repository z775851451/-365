{
 "cells": [
  {
   "cell_type": "code",
   "execution_count": 88,
   "metadata": {},
   "outputs": [
    {
     "data": {
      "text/html": [
       "<div>\n",
       "<style scoped>\n",
       "    .dataframe tbody tr th:only-of-type {\n",
       "        vertical-align: middle;\n",
       "    }\n",
       "\n",
       "    .dataframe tbody tr th {\n",
       "        vertical-align: top;\n",
       "    }\n",
       "\n",
       "    .dataframe thead th {\n",
       "        text-align: right;\n",
       "    }\n",
       "</style>\n",
       "<table border=\"1\" class=\"dataframe\">\n",
       "  <thead>\n",
       "    <tr style=\"text-align: right;\">\n",
       "      <th></th>\n",
       "      <th>回款日期</th>\n",
       "      <th>店铺</th>\n",
       "      <th>订单日期</th>\n",
       "    </tr>\n",
       "  </thead>\n",
       "  <tbody>\n",
       "    <tr>\n",
       "      <th>0</th>\n",
       "      <td>2021-09-30</td>\n",
       "      <td>苏宁荣耀旗舰店</td>\n",
       "      <td>2021-09</td>\n",
       "    </tr>\n",
       "    <tr>\n",
       "      <th>1</th>\n",
       "      <td>2021-09-30</td>\n",
       "      <td>苏宁小米旗舰店</td>\n",
       "      <td>2021-09</td>\n",
       "    </tr>\n",
       "    <tr>\n",
       "      <th>2</th>\n",
       "      <td>2021-09-30</td>\n",
       "      <td>苏宁华为旗舰店</td>\n",
       "      <td>2021-09</td>\n",
       "    </tr>\n",
       "    <tr>\n",
       "      <th>3</th>\n",
       "      <td>2021-10-30</td>\n",
       "      <td>苏宁荣耀旗舰店</td>\n",
       "      <td>2021-10</td>\n",
       "    </tr>\n",
       "    <tr>\n",
       "      <th>4</th>\n",
       "      <td>2021-10-30</td>\n",
       "      <td>苏宁小米旗舰店</td>\n",
       "      <td>2021-10</td>\n",
       "    </tr>\n",
       "    <tr>\n",
       "      <th>5</th>\n",
       "      <td>2021-10-30</td>\n",
       "      <td>苏宁华为旗舰店</td>\n",
       "      <td>2021-10</td>\n",
       "    </tr>\n",
       "    <tr>\n",
       "      <th>6</th>\n",
       "      <td>2021-11-30</td>\n",
       "      <td>苏宁荣耀旗舰店</td>\n",
       "      <td>2021-11</td>\n",
       "    </tr>\n",
       "    <tr>\n",
       "      <th>7</th>\n",
       "      <td>2021-11-30</td>\n",
       "      <td>苏宁小米旗舰店</td>\n",
       "      <td>2021-11</td>\n",
       "    </tr>\n",
       "    <tr>\n",
       "      <th>8</th>\n",
       "      <td>2021-11-30</td>\n",
       "      <td>苏宁华为旗舰店</td>\n",
       "      <td>2021-11</td>\n",
       "    </tr>\n",
       "  </tbody>\n",
       "</table>\n",
       "</div>"
      ],
      "text/plain": [
       "        回款日期       店铺     订单日期\n",
       "0 2021-09-30  苏宁荣耀旗舰店  2021-09\n",
       "1 2021-09-30  苏宁小米旗舰店  2021-09\n",
       "2 2021-09-30  苏宁华为旗舰店  2021-09\n",
       "3 2021-10-30  苏宁荣耀旗舰店  2021-10\n",
       "4 2021-10-30  苏宁小米旗舰店  2021-10\n",
       "5 2021-10-30  苏宁华为旗舰店  2021-10\n",
       "6 2021-11-30  苏宁荣耀旗舰店  2021-11\n",
       "7 2021-11-30  苏宁小米旗舰店  2021-11\n",
       "8 2021-11-30  苏宁华为旗舰店  2021-11"
      ]
     },
     "execution_count": 88,
     "metadata": {},
     "output_type": "execute_result"
    }
   ],
   "source": [
    "import pandas as pd\n",
    "\n",
    "df = pd.read_excel('sql-苏宁回款时间.xlsx')\n",
    "df"
   ]
  },
  {
   "cell_type": "code",
   "execution_count": 83,
   "metadata": {},
   "outputs": [
    {
     "name": "stdout",
     "output_type": "stream",
     "text": [
      "OK\n",
      "the running time is :  0.01495981216430664\n"
     ]
    }
   ],
   "source": [
    "# -*- coding:utf-8 -*-\n",
    "import time\n",
    "from pymysql import *\n",
    "\n",
    "# 装饰器，计算插入50000条数据需要的时间\n",
    "def timer(func):\n",
    "    def decor(*args):\n",
    "        start_time = time.time()\n",
    "        func(*args)\n",
    "        end_time = time.time()\n",
    "        d_time = end_time - start_time\n",
    "        print(\"the running time is : \", d_time)\n",
    "\n",
    "    return decor\n",
    "\n",
    "@timer\n",
    "def add_test_users():\n",
    "    \n",
    "    usersvalues = []\n",
    "    for num in range(1, 50000):\n",
    "        usersvalues.append(('需要插入的字段对应的value'))  # 注意要用两个括号扩起来\n",
    "\n",
    "    conn = connect(host='127.0.0.1', port=3306, user='root', password='12345678', database='test', charset='utf8')\n",
    "    cs = conn.cursor()  # 获取光标\n",
    "    # 注意这里使用的是executemany而不是execute，下边有对executemany的详细说明 月份\t店铺\t售后费用\t物流费\t销售数量\t每单费用\t合计\n",
    "    \n",
    "    for i in range(0,len(df)):\n",
    "        sql = \"insert into 物流费 values('%s','%s','%s','%s','%s','%s','%s')\"% (df.月份[i],df.店铺[i],df.售后费用[i],df.物流费[i],df.销售数量[i],df.每单费用[i],df.合计[i])\n",
    "        cs.execute(sql)\n",
    "        \n",
    "    #.execute(\"INSERT INTO test (money,gui) VALUE (%d,'%s')\" % (i, k))\n",
    "    # executemany execute\n",
    "    conn.commit()\n",
    "    cs.close()\n",
    "    conn.close()\n",
    "    print('OK')\n",
    "    # 关闭数据库连接\n",
    "    cs.close()\n",
    "add_test_users()"
   ]
  },
  {
   "cell_type": "code",
   "execution_count": null,
   "metadata": {},
   "outputs": [],
   "source": [
    "def insql(len_df,sql_insert):\n",
    "    for i in range(0,len(df)):\n",
    "        sql = \"insert into 物流费 values('%s','%s','%s','%s','%s','%s','%s')\"% (df.月份[i],df.店铺[i],df.售后费用[i],df.物流费[i],df.销售数量[i],df.每单费用[i],df.合计[i])\n",
    "        cs.execute(sql)"
   ]
  },
  {
   "cell_type": "code",
   "execution_count": 77,
   "metadata": {},
   "outputs": [
    {
     "data": {
      "text/plain": [
       "['%s', '%s', '%s', '%s', '%s', '%s', '%s', '%s', '%s']"
      ]
     },
     "execution_count": 77,
     "metadata": {},
     "output_type": "execute_result"
    }
   ],
   "source": [
    "a = ['%s']*9\n",
    "a\n"
   ]
  },
  {
   "cell_type": "code",
   "execution_count": 78,
   "metadata": {},
   "outputs": [
    {
     "data": {
      "text/plain": [
       "'\"%s\",\"%s\",\"%s\",\"%s\",\"%s\",\"%s\",\"%s\"'"
      ]
     },
     "execution_count": 78,
     "metadata": {},
     "output_type": "execute_result"
    }
   ],
   "source": [
    "'\",\"'.join(a)[4:-4]"
   ]
  },
  {
   "cell_type": "code",
   "execution_count": 6,
   "metadata": {},
   "outputs": [
    {
     "name": "stdout",
     "output_type": "stream",
     "text": [
      "0\n",
      "1\n",
      "2\n",
      "3\n",
      "4\n",
      "5\n",
      "6\n",
      "7\n",
      "8\n",
      "9\n",
      "10\n",
      "11\n",
      "12\n",
      "13\n",
      "14\n",
      "15\n"
     ]
    }
   ],
   "source": [
    "for i in range(0,len(df)):\n",
    "    print(i)"
   ]
  },
  {
   "cell_type": "code",
   "execution_count": 7,
   "metadata": {},
   "outputs": [
    {
     "data": {
      "text/plain": [
       "'2021-09,世翔京喜自营店(京喜),20221.96,1939.0,10.563883445074781,20483.37'"
      ]
     },
     "execution_count": 7,
     "metadata": {},
     "output_type": "execute_result"
    }
   ],
   "source": [
    "f\"{df.月份[0]},{df.店铺[0]},{df.物流费[0]},{df.销售数量[0]},{df.每单费用[0]},{df.合计[0]}\""
   ]
  },
  {
   "cell_type": "code",
   "execution_count": 44,
   "metadata": {},
   "outputs": [],
   "source": [
    "import os\n",
    "from sqlalchemy import create_engine\n",
    "import pandas as pd\n",
    "import pymysql\n",
    "import yaml\n",
    "from tqdm import tqdm\n",
    "from time import sleep\n"
   ]
  },
  {
   "cell_type": "code",
   "execution_count": 45,
   "metadata": {},
   "outputs": [
    {
     "name": "stdout",
     "output_type": "stream",
     "text": [
      "正在加载配置文件......\n"
     ]
    }
   ],
   "source": [
    "print('正在加载配置文件......')\n",
    "def config_dp():\n",
    "    # print('正在加载配置文件......')\n",
    "    try:\n",
    "        with open('config.yml', 'r', encoding='utf-8') as f:\n",
    "            result = yaml.load(f.read(), Loader=yaml.FullLoader)\n",
    "        return result\n",
    "    except:\n",
    "        print('缺少配置文件:config.yml')\n",
    "        return None\n",
    "\n",
    "path = config_dp()['path']\n",
    "con = config_dp()\n",
    "database : config_dp()['database_c']['database']\n",
    "host = config_dp()['database_c']['host']\n",
    "port = config_dp()['database_c']['port']\n",
    "user = config_dp()['database_c']['user']\n",
    "password = config_dp()['database_c']['password']\n",
    "database = config_dp()['database_c']['database']\n",
    "charset = config_dp()['database_c']['charset']\n",
    "query_max_date = config_dp()['select']\n",
    "fugai = config_dp()['fugai']\n",
    "engine = create_engine(f\"mysql+pymysql://{user}:{password}@{host}:{port}/{database}?charset={charset}\")\n",
    "\n",
    "# query_max_date\n",
    "# query_max_date['vc结算单']['select max(结算日期) from vc结算单']"
   ]
  },
  {
   "cell_type": "code",
   "execution_count": 46,
   "metadata": {},
   "outputs": [],
   "source": [
    "#读取数据文件\n",
    "def read_df(path,file_name,usecols=None):\n",
    "    df = pd.read_excel(path+file_name,usecols = usecols)\n",
    "    return df"
   ]
  },
  {
   "cell_type": "code",
   "execution_count": 56,
   "metadata": {},
   "outputs": [],
   "source": [
    "#数据库添加数据 重新添加为：replace\n",
    "def sql_insert(df,table_name,fun='append'):\n",
    "    df.to_sql(table_name, engine, schema=database, if_exists=fun, index=False,\n",
    "                chunksize=None, dtype=None)"
   ]
  },
  {
   "cell_type": "code",
   "execution_count": 48,
   "metadata": {},
   "outputs": [],
   "source": [
    "#读取数据库 tables_name\n",
    "\n",
    "def tables_list(database,sql):\n",
    "    db = pymysql.connect(host=host,port=port,user=user,password=password,database=database,charset=charset)\n",
    "\n",
    "    #2.利用db方法创建游标对象\n",
    "    cur = db.cursor()\n",
    "\n",
    "    #3.利用游标对象execute()方法执行SQL命令\n",
    "    # cur.execute(\"show tables from test\")\n",
    "    cur.execute(sql)\n",
    "    #fetchone()方法获取返回对象的单条数据 fetchall 方法获取返回对象的所有数据\n",
    "    data = cur.fetchall()\n",
    "    \n",
    "    #关闭数据库连接\n",
    "    db.close()\n",
    "    \n",
    "    return data"
   ]
  },
  {
   "cell_type": "code",
   "execution_count": 57,
   "metadata": {},
   "outputs": [
    {
     "data": {
      "text/html": [
       "<div>\n",
       "<style scoped>\n",
       "    .dataframe tbody tr th:only-of-type {\n",
       "        vertical-align: middle;\n",
       "    }\n",
       "\n",
       "    .dataframe tbody tr th {\n",
       "        vertical-align: top;\n",
       "    }\n",
       "\n",
       "    .dataframe thead th {\n",
       "        text-align: right;\n",
       "    }\n",
       "</style>\n",
       "<table border=\"1\" class=\"dataframe\">\n",
       "  <thead>\n",
       "    <tr style=\"text-align: right;\">\n",
       "      <th></th>\n",
       "      <th>表</th>\n",
       "      <th>链接</th>\n",
       "      <th>最大日期</th>\n",
       "    </tr>\n",
       "  </thead>\n",
       "  <tbody>\n",
       "    <tr>\n",
       "      <th>0</th>\n",
       "      <td>vc结算单</td>\n",
       "      <td>https://vcf.jd.com/sub_finance/jxSettlerequest...</td>\n",
       "      <td>2021-12-21 00:00:00</td>\n",
       "    </tr>\n",
       "    <tr>\n",
       "      <th>1</th>\n",
       "      <td>京东</td>\n",
       "      <td>https://pdropship.jd.com/exportCenter/initList...</td>\n",
       "      <td>None</td>\n",
       "    </tr>\n",
       "    <tr>\n",
       "      <th>2</th>\n",
       "      <td>京东退货单</td>\n",
       "      <td>https://vcreturns.jd.com/returns/orderList</td>\n",
       "      <td>2021-12-21 15:59:22</td>\n",
       "    </tr>\n",
       "    <tr>\n",
       "      <th>3</th>\n",
       "      <td>苏宁报表</td>\n",
       "      <td>null</td>\n",
       "      <td>None</td>\n",
       "    </tr>\n",
       "    <tr>\n",
       "      <th>4</th>\n",
       "      <td>旺店通</td>\n",
       "      <td>null</td>\n",
       "      <td>2021-12-21 23:56:09</td>\n",
       "    </tr>\n",
       "    <tr>\n",
       "      <th>5</th>\n",
       "      <td>小柚旺店通销售管理</td>\n",
       "      <td>http://erp2.xyooou.com/Main</td>\n",
       "      <td>2021/12/20 21:36:12</td>\n",
       "    </tr>\n",
       "    <tr>\n",
       "      <th>6</th>\n",
       "      <td>自采单流水账</td>\n",
       "      <td>http://boss2.xyooou.com/Home/Index</td>\n",
       "      <td>2021/9/9 18:45:01</td>\n",
       "    </tr>\n",
       "    <tr>\n",
       "      <th>7</th>\n",
       "      <td>自采销售单流水账</td>\n",
       "      <td>http://boss2.xyooou.com/Home/Index</td>\n",
       "      <td>2021/9/8 11:36:26</td>\n",
       "    </tr>\n",
       "  </tbody>\n",
       "</table>\n",
       "</div>"
      ],
      "text/plain": [
       "           表                                                 链接  \\\n",
       "0      vc结算单  https://vcf.jd.com/sub_finance/jxSettlerequest...   \n",
       "1         京东  https://pdropship.jd.com/exportCenter/initList...   \n",
       "2      京东退货单         https://vcreturns.jd.com/returns/orderList   \n",
       "3       苏宁报表                                               null   \n",
       "4        旺店通                                               null   \n",
       "5  小柚旺店通销售管理                        http://erp2.xyooou.com/Main   \n",
       "6     自采单流水账                 http://boss2.xyooou.com/Home/Index   \n",
       "7   自采销售单流水账                 http://boss2.xyooou.com/Home/Index   \n",
       "\n",
       "                  最大日期  \n",
       "0  2021-12-21 00:00:00  \n",
       "1                 None  \n",
       "2  2021-12-21 15:59:22  \n",
       "3                 None  \n",
       "4  2021-12-21 23:56:09  \n",
       "5  2021/12/20 21:36:12  \n",
       "6    2021/9/9 18:45:01  \n",
       "7    2021/9/8 11:36:26  "
      ]
     },
     "execution_count": 57,
     "metadata": {},
     "output_type": "execute_result"
    }
   ],
   "source": [
    "k_n = []\n",
    "v_n = []\n",
    "s = []\n",
    "for key,value in query_max_date.items():\n",
    "    for k,v in value.items():\n",
    "        date = tables_list(database,k)[0][0]\n",
    "        s.append(str(date))\n",
    "        k_n.append(key)\n",
    "        v_n.append(str(v))\n",
    "df_max = pd.DataFrame(data=[k_n,v_n,s],index = ['表','链接','最大日期']).T\n",
    "df_max"
   ]
  },
  {
   "cell_type": "code",
   "execution_count": 58,
   "metadata": {},
   "outputs": [
    {
     "name": "stdout",
     "output_type": "stream",
     "text": [
      "路径：./每日/excel/\n",
      "文件列表:\n",
      "~$京东报表.xlsx\n",
      "京东报表.xlsx\n",
      "旺店通.xlsx\n",
      "旺店通销售管理.xlsx\n",
      "结算单单据明细.xlsx\n",
      "自采单流水账.xlsx\n",
      "自采销售单流水账.xlsx\n",
      "非图书退货订单导出.xlsx\n"
     ]
    }
   ],
   "source": [
    "file_name = os.listdir(path)\n",
    "print(f'路径：{path}\\n文件列表:\\n'+'\\n'.join(file_name))\n"
   ]
  },
  {
   "cell_type": "code",
   "execution_count": 59,
   "metadata": {},
   "outputs": [
    {
     "name": "stderr",
     "output_type": "stream",
     "text": [
      "  0%|          | 0/10 [00:00<?, ?it/s]"
     ]
    },
    {
     "name": "stdout",
     "output_type": "stream",
     "text": [
      "没有文件sql-苏宁回款时间.xlsx,请检查文件是否存在，或‘后缀名’不正确\n",
      "没有文件sql-物流费.xlsx,请检查文件是否存在，或‘后缀名’不正确\n"
     ]
    },
    {
     "name": "stderr",
     "output_type": "stream",
     "text": [
      " 30%|███       | 3/10 [00:00<00:00,  9.70it/s]"
     ]
    },
    {
     "name": "stdout",
     "output_type": "stream",
     "text": [
      "没有文件京东报表.xlsx,请检查文件是否存在，或‘后缀名’不正确\n"
     ]
    },
    {
     "name": "stderr",
     "output_type": "stream",
     "text": [
      " 50%|█████     | 5/10 [00:00<00:00,  7.84it/s]"
     ]
    },
    {
     "name": "stdout",
     "output_type": "stream",
     "text": [
      "没有文件sql-苏宁报表.xlsx,请检查文件是否存在，或‘后缀名’不正确\n"
     ]
    },
    {
     "name": "stderr",
     "output_type": "stream",
     "text": [
      "100%|██████████| 10/10 [00:13<00:00,  3.41s/it]\n"
     ]
    }
   ],
   "source": [
    "table_names = []\n",
    "s_count = []\n",
    "e_count = []\n",
    "\n",
    "\n",
    "for key,value in tqdm(con['re'].items()):\n",
    "    start = tables_list(database,\"select count(*) from \"+key)[0][0]\n",
    "    sleep(0.05)\n",
    "    for k,y in value.items():\n",
    "        try:\n",
    "            df = read_df(path,k+'.xlsx',y)\n",
    "            if key in fugai:\n",
    "                sql_insert(df,key,'replace')\n",
    "            else:\n",
    "                sql_insert(df,key)\n",
    "            table_names.append(key)\n",
    "            s_count.append(start)\n",
    "            end = tables_list(database,\"select count(*) from \"+key)[0][0]\n",
    "            e_count.append(end)\n",
    "        except:\n",
    "            print(\"没有文件\"+k+'.xlsx,请检查文件是否存在，或‘后缀名’不正确')\n",
    "            break"
   ]
  },
  {
   "cell_type": "code",
   "execution_count": null,
   "metadata": {},
   "outputs": [],
   "source": [
    "# read_df(path,'京东报表.xlsx',usecols=['客户订单号', '商品编码', '品牌', '商品名称', '商品单价', '采购价', '采购单号', '退货单号', '购买数量', '收货人姓名', '收货人电话', '收货人地址', '省', '市', '县', '预计发货时间', '商家仓ID', '商家仓名称', '订单备注', '商家备注', '父单号', '支付方式', '出库时间', '下单时间', '可出库时间', '订单金额', '用户支付金额', '承运商', '运单号', '订单状态', '订单完成时间', '是否有退款申请'])"
   ]
  },
  {
   "cell_type": "code",
   "execution_count": 60,
   "metadata": {},
   "outputs": [
    {
     "data": {
      "text/html": [
       "<div>\n",
       "<style scoped>\n",
       "    .dataframe tbody tr th:only-of-type {\n",
       "        vertical-align: middle;\n",
       "    }\n",
       "\n",
       "    .dataframe tbody tr th {\n",
       "        vertical-align: top;\n",
       "    }\n",
       "\n",
       "    .dataframe thead th {\n",
       "        text-align: right;\n",
       "    }\n",
       "</style>\n",
       "<table border=\"1\" class=\"dataframe\">\n",
       "  <thead>\n",
       "    <tr style=\"text-align: right;\">\n",
       "      <th></th>\n",
       "      <th>添加后</th>\n",
       "      <th>添加前</th>\n",
       "      <th>本次添加条数</th>\n",
       "    </tr>\n",
       "  </thead>\n",
       "  <tbody>\n",
       "    <tr>\n",
       "      <th>vc结算单</th>\n",
       "      <td>4088</td>\n",
       "      <td>3577</td>\n",
       "      <td>511</td>\n",
       "    </tr>\n",
       "    <tr>\n",
       "      <th>京东退货单</th>\n",
       "      <td>520</td>\n",
       "      <td>455</td>\n",
       "      <td>65</td>\n",
       "    </tr>\n",
       "    <tr>\n",
       "      <th>旺店通</th>\n",
       "      <td>18328</td>\n",
       "      <td>16037</td>\n",
       "      <td>2291</td>\n",
       "    </tr>\n",
       "    <tr>\n",
       "      <th>小柚旺店通销售管理</th>\n",
       "      <td>7240</td>\n",
       "      <td>6335</td>\n",
       "      <td>905</td>\n",
       "    </tr>\n",
       "    <tr>\n",
       "      <th>自采单流水账</th>\n",
       "      <td>8163</td>\n",
       "      <td>8163</td>\n",
       "      <td>0</td>\n",
       "    </tr>\n",
       "    <tr>\n",
       "      <th>自采销售单流水账</th>\n",
       "      <td>23095</td>\n",
       "      <td>23095</td>\n",
       "      <td>0</td>\n",
       "    </tr>\n",
       "  </tbody>\n",
       "</table>\n",
       "</div>"
      ],
      "text/plain": [
       "             添加后    添加前  本次添加条数\n",
       "vc结算单       4088   3577     511\n",
       "京东退货单        520    455      65\n",
       "旺店通        18328  16037    2291\n",
       "小柚旺店通销售管理   7240   6335     905\n",
       "自采单流水账      8163   8163       0\n",
       "自采销售单流水账   23095  23095       0"
      ]
     },
     "execution_count": 60,
     "metadata": {},
     "output_type": "execute_result"
    }
   ],
   "source": [
    "relult = pd.DataFrame(data=[e_count,s_count],columns=table_names,index = ['添加后','添加前']).T\n",
    "relult = relult.assign(本次添加条数=relult.添加后-relult.添加前)\n",
    "relult"
   ]
  },
  {
   "cell_type": "code",
   "execution_count": null,
   "metadata": {},
   "outputs": [],
   "source": [
    "pd.read_excel(path+\"sql-京东报表.xlsx\",usecols=['客户订单号', '商品编码', '品牌', '商品名称', '商品单价', '采购价', '采购单号', '退货单号', '购买数量',\n",
    "       '收货人姓名', '收货人电话', '收货人地址', '省', '市', '县', '预计发货时间', '商家仓ID', '商家仓名称',\n",
    "       '订单备注', '商家备注', '父单号', '支付方式', '出库时间', '下单时间', '可出库时间', '订单金额',\n",
    "       '用户支付金额', '承运商', '运单号', '订单状态', '订单完成时间', '是否有退款申请', '商家编码', '店铺']).head(3).columns\n",
    "#,usecols=['客户订单号,商品编码,品牌,商品名称,商品单价,采购价,采购单号,退货单号,购买数量,收货人姓名,收货人电话,收货人地址,省,市,县,预计发货时间,商家仓ID,商家仓名称,订单备注,商家备注,父单号,支付方式,出库时间,下单时间,可出库时间,订单金额,用户支付金额,承运商,运单号,订单状态,订单完成时间,是否有退款申请,商家编码,店铺']"
   ]
  },
  {
   "cell_type": "code",
   "execution_count": 2,
   "metadata": {},
   "outputs": [],
   "source": [
    "a = '销售订单编号,渠道单状态,供应商会员名,分销商会员名,消费者留言,分销单创建时间,分销单付款时间,分销单发货时间,分销单退款成功时间,分销单确认收货时间,经营模式,支付方式,渠道产品名称,产品SKU名称,商家编码,销售数量,渠道价格(元),分销金额小记(元),改价金额(元),分销金额小记汇总(元),分销邮费(元),分销单金额汇总(元),分销商已支付金额(元),备注文字,备注颜色,分销单退款状态,已退款金额(元),消费者订单编号,消费者订单支付状态,消费者支付宝交易号,分销商支付宝交易号,收货人,手机,电话,省,市,区,地址'"
   ]
  },
  {
   "cell_type": "code",
   "execution_count": 3,
   "metadata": {},
   "outputs": [
    {
     "data": {
      "text/plain": [
       "['销售订单编号',\n",
       " '渠道单状态',\n",
       " '供应商会员名',\n",
       " '分销商会员名',\n",
       " '消费者留言',\n",
       " '分销单创建时间',\n",
       " '分销单付款时间',\n",
       " '分销单发货时间',\n",
       " '分销单退款成功时间',\n",
       " '分销单确认收货时间',\n",
       " '经营模式',\n",
       " '支付方式',\n",
       " '渠道产品名称',\n",
       " '产品SKU名称',\n",
       " '商家编码',\n",
       " '销售数量',\n",
       " '渠道价格(元)',\n",
       " '分销金额小记(元)',\n",
       " '改价金额(元)',\n",
       " '分销金额小记汇总(元)',\n",
       " '分销邮费(元)',\n",
       " '分销单金额汇总(元)',\n",
       " '分销商已支付金额(元)',\n",
       " '备注文字',\n",
       " '备注颜色',\n",
       " '分销单退款状态',\n",
       " '已退款金额(元)',\n",
       " '消费者订单编号',\n",
       " '消费者订单支付状态',\n",
       " '消费者支付宝交易号',\n",
       " '分销商支付宝交易号',\n",
       " '收货人',\n",
       " '手机',\n",
       " '电话',\n",
       " '省',\n",
       " '市',\n",
       " '区',\n",
       " '地址']"
      ]
     },
     "execution_count": 3,
     "metadata": {},
     "output_type": "execute_result"
    }
   ],
   "source": [
    "a.split(',')"
   ]
  },
  {
   "cell_type": "code",
   "execution_count": null,
   "metadata": {},
   "outputs": [],
   "source": []
  }
 ],
 "metadata": {
  "interpreter": {
   "hash": "b3ba2566441a7c06988d0923437866b63cedc61552a5af99d1f4fb67d367b25f"
  },
  "kernelspec": {
   "display_name": "Python 3.7.0 64-bit ('base': conda)",
   "language": "python",
   "name": "python3"
  },
  "language_info": {
   "codemirror_mode": {
    "name": "ipython",
    "version": 3
   },
   "file_extension": ".py",
   "mimetype": "text/x-python",
   "name": "python",
   "nbconvert_exporter": "python",
   "pygments_lexer": "ipython3",
   "version": "3.7.0"
  },
  "orig_nbformat": 4
 },
 "nbformat": 4,
 "nbformat_minor": 2
}
